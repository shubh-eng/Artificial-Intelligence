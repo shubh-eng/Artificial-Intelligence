{
  "nbformat": 4,
  "nbformat_minor": 0,
  "metadata": {
    "colab": {
      "name": "Untitled5.ipynb",
      "provenance": [],
      "authorship_tag": "ABX9TyOOuyZFmGDnUn1HUzVRQJRP",
      "include_colab_link": true
    },
    "kernelspec": {
      "name": "python3",
      "display_name": "Python 3"
    }
  },
  "cells": [
    {
      "cell_type": "markdown",
      "metadata": {
        "id": "view-in-github",
        "colab_type": "text"
      },
      "source": [
        "<a href=\"https://colab.research.google.com/github/shubh-eng/Artificial-Intelligence/blob/master/homework/HW_J069_4072020.ipynb\" target=\"_parent\"><img src=\"https://colab.research.google.com/assets/colab-badge.svg\" alt=\"Open In Colab\"/></a>"
      ]
    },
    {
      "cell_type": "code",
      "metadata": {
        "id": "VvIVs7awb2kj",
        "colab_type": "code",
        "colab": {
          "base_uri": "https://localhost:8080/",
          "height": 34
        },
        "outputId": "01f246c1-7914-40f4-e98e-82277938dadd"
      },
      "source": [
        "#question 1\n",
        "\n",
        "print('Hello, World!')"
      ],
      "execution_count": 2,
      "outputs": [
        {
          "output_type": "stream",
          "text": [
            "Hello, World!\n"
          ],
          "name": "stdout"
        }
      ]
    },
    {
      "cell_type": "code",
      "metadata": {
        "id": "nsrik3Dccc-P",
        "colab_type": "code",
        "colab": {}
      },
      "source": [
        "#Question 2\n",
        "\n",
        "n = int(raw_input().strip())\n",
        "if (n%2)!=0:\n",
        "    print('Weird')\n",
        "elif (n%2)==0 and 2<=n<=5:\n",
        "    print('Not Weird')\n",
        "elif (n%2)==0 and 6<=n<=20:\n",
        "    print('Weird')\n",
        "elif (n%2)==0 and n>20:\n",
        "    print('Not Weird')\n",
        "    "
      ],
      "execution_count": null,
      "outputs": []
    },
    {
      "cell_type": "code",
      "metadata": {
        "id": "R0GFquhGc6_g",
        "colab_type": "code",
        "colab": {}
      },
      "source": [
        "#Question 3\n",
        "a = int(raw_input())\n",
        "b = int(raw_input())\n",
        "\n",
        "add_op=a+b\n",
        "print(add_op)\n",
        "minus_op=a-b\n",
        "print(minus_op)\n",
        "mult_op=a*b\n",
        "print(mult_op)\n",
        "\n"
      ],
      "execution_count": null,
      "outputs": []
    },
    {
      "cell_type": "code",
      "metadata": {
        "id": "KWwoT4dQdhos",
        "colab_type": "code",
        "colab": {}
      },
      "source": [
        "#Question 4\n",
        "a = int(raw_input())\n",
        "b = int(raw_input())\n",
        "\n",
        "int_div=int(a/b)\n",
        "print(int_div)\n",
        "float_div=float(a/b)\n",
        "print(float_div)"
      ],
      "execution_count": null,
      "outputs": []
    },
    {
      "cell_type": "code",
      "metadata": {
        "id": "nDSzYSOuds86",
        "colab_type": "code",
        "colab": {}
      },
      "source": [
        "#Question 5\n",
        "\n",
        "n = int(raw_input())\n",
        "\n",
        "for i in range(n):\n",
        "    print(i*i)\n"
      ],
      "execution_count": null,
      "outputs": []
    },
    {
      "cell_type": "code",
      "metadata": {
        "id": "TLk_nPQqd3Kh",
        "colab_type": "code",
        "colab": {}
      },
      "source": [
        "#Question 6\n",
        "n = int(raw_input())\n",
        "\n",
        "for i in range(1,n+1):\n",
        "    print(i,end='')"
      ],
      "execution_count": null,
      "outputs": []
    },
    {
      "cell_type": "code",
      "metadata": {
        "id": "BTZkCDfQeEQN",
        "colab_type": "code",
        "colab": {}
      },
      "source": [
        "#Question 7\n",
        "x = int(raw_input())\n",
        "y = int(raw_input())\n",
        "z = int(raw_input())\n",
        "n = int(raw_input())\n",
        "\n",
        "print([[i,j,k] for i in range(x+1) for j in range(y+1) for k in range(z+1) if ((i+j+k!=n))])\n"
      ],
      "execution_count": null,
      "outputs": []
    }
  ]
}