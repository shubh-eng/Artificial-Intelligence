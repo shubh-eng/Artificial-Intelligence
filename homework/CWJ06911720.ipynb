{
  "nbformat": 4,
  "nbformat_minor": 0,
  "metadata": {
    "colab": {
      "name": "CWJ06911720.ipynb",
      "provenance": [],
      "authorship_tag": "ABX9TyOlP+D9fz+d0BbTbt9vn9iT",
      "include_colab_link": true
    },
    "kernelspec": {
      "name": "python3",
      "display_name": "Python 3"
    }
  },
  "cells": [
    {
      "cell_type": "markdown",
      "metadata": {
        "id": "view-in-github",
        "colab_type": "text"
      },
      "source": [
        "<a href=\"https://colab.research.google.com/github/shubh-eng/Artificial-Intelligence/blob/master/homework/CWJ06911720.ipynb\" target=\"_parent\"><img src=\"https://colab.research.google.com/assets/colab-badge.svg\" alt=\"Open In Colab\"/></a>"
      ]
    },
    {
      "cell_type": "code",
      "metadata": {
        "id": "mpOOnGybwYai",
        "colab_type": "code",
        "colab": {
          "base_uri": "https://localhost:8080/",
          "height": 70
        },
        "outputId": "6345a8c3-fc9f-45aa-f198-cbdf7db43bb6"
      },
      "source": [
        "import numpy as np\n",
        "import pandas as pd\n",
        "import seaborn as sns\n",
        "import matplotlib.pyplot as plt\n"
      ],
      "execution_count": 1,
      "outputs": [
        {
          "output_type": "stream",
          "text": [
            "/usr/local/lib/python3.6/dist-packages/statsmodels/tools/_testing.py:19: FutureWarning: pandas.util.testing is deprecated. Use the functions in the public API at pandas.testing instead.\n",
            "  import pandas.util.testing as tm\n"
          ],
          "name": "stderr"
        }
      ]
    },
    {
      "cell_type": "code",
      "metadata": {
        "id": "4fM6ZzV_3x9u",
        "colab_type": "code",
        "colab": {}
      },
      "source": [
        "def sum(x,y):\n",
        "  return x+y\n",
        "\n",
        "def dum():\n",
        "  print(x+y)\n"
      ],
      "execution_count": 2,
      "outputs": []
    },
    {
      "cell_type": "code",
      "metadata": {
        "id": "16rWwdAS5wZY",
        "colab_type": "code",
        "colab": {
          "base_uri": "https://localhost:8080/",
          "height": 34
        },
        "outputId": "eed61a65-57a9-4c3b-e41c-2edf33eeb236"
      },
      "source": [
        "x=5\n",
        "y=6\n",
        "\n",
        "dum()"
      ],
      "execution_count": 3,
      "outputs": [
        {
          "output_type": "stream",
          "text": [
            "11\n"
          ],
          "name": "stdout"
        }
      ]
    },
    {
      "cell_type": "code",
      "metadata": {
        "id": "6hExE3H8501U",
        "colab_type": "code",
        "colab": {}
      },
      "source": [
        "ret=sum(x,y)"
      ],
      "execution_count": 4,
      "outputs": []
    },
    {
      "cell_type": "code",
      "metadata": {
        "id": "70nUzVNu53yz",
        "colab_type": "code",
        "colab": {
          "base_uri": "https://localhost:8080/",
          "height": 34
        },
        "outputId": "3a09e24c-023a-4fef-f157-1fbd4f016de7"
      },
      "source": [
        "print(ret)"
      ],
      "execution_count": 5,
      "outputs": [
        {
          "output_type": "stream",
          "text": [
            "11\n"
          ],
          "name": "stdout"
        }
      ]
    },
    {
      "cell_type": "code",
      "metadata": {
        "id": "xHkn-lhO56Tr",
        "colab_type": "code",
        "colab": {}
      },
      "source": [
        "class ReadCsv():\n",
        "  def __init__(self,filename):\n",
        "    self.data=pd.read_csv(filename)\n",
        "  def select_row(self,x,y):\n",
        "    print(self.data.iloc[[x]])\n",
        "    print(self.data.iloc[[y]])\n",
        "\n",
        "class Main_read(ReadCsv):\n",
        "  def correlation(self):\n",
        "    dummy_data=self.data\n",
        "    cor=dummy_data.corr()\n",
        "    sns.heatmap(cor)\n",
        "    plt.show()\n",
        "\n",
        "  def random_rows(self,x,y,z):\n",
        "    print(self.data.iloc[[x]])\n",
        "    print(self.data.iloc[[y]])\n",
        "    print(self.data.iloc[[z]])\n",
        "\n",
        "    \n",
        "\n",
        "\n"
      ],
      "execution_count": 2,
      "outputs": []
    },
    {
      "cell_type": "code",
      "metadata": {
        "id": "WNbKwrzUAz0M",
        "colab_type": "code",
        "colab": {}
      },
      "source": [
        "p=ReadCsv('data.csv')"
      ],
      "execution_count": 3,
      "outputs": []
    },
    {
      "cell_type": "code",
      "metadata": {
        "id": "99rgw7B9Bkx9",
        "colab_type": "code",
        "colab": {
          "base_uri": "https://localhost:8080/",
          "height": 151
        },
        "outputId": "c958a3af-815c-4f39-8750-cbe5c9259e86"
      },
      "source": [
        "p.select_row(4,5)"
      ],
      "execution_count": 4,
      "outputs": [
        {
          "output_type": "stream",
          "text": [
            "   Unnamed: 0      ID          Name  ...  GKPositioning GKReflexes Release Clause\n",
            "4           4  192985  K. De Bruyne  ...           10.0       13.0        €196.4M\n",
            "\n",
            "[1 rows x 89 columns]\n",
            "   Unnamed: 0      ID       Name  ...  GKPositioning GKReflexes Release Clause\n",
            "5           5  183277  E. Hazard  ...            8.0        8.0        €172.1M\n",
            "\n",
            "[1 rows x 89 columns]\n"
          ],
          "name": "stdout"
        }
      ]
    },
    {
      "cell_type": "code",
      "metadata": {
        "id": "BPnbb2jPBrkZ",
        "colab_type": "code",
        "colab": {}
      },
      "source": [
        "m=Main_read('data.csv')"
      ],
      "execution_count": 5,
      "outputs": []
    },
    {
      "cell_type": "code",
      "metadata": {
        "id": "w_karaKTB9KX",
        "colab_type": "code",
        "colab": {
          "base_uri": "https://localhost:8080/",
          "height": 381
        },
        "outputId": "4e92a54a-5745-4af3-f8dd-2f4d787dc210"
      },
      "source": [
        "m.correlation()"
      ],
      "execution_count": 6,
      "outputs": [
        {
          "output_type": "display_data",
          "data": {
            "image/png": "[encoded data removed]",
            "text/plain": [
              "<Figure size 432x288 with 2 Axes>"
            ]
          },
          "metadata": {
            "tags": [],
            "needs_background": "light"
          }
        }
      ]
    },
    {
      "cell_type": "code",
      "metadata": {
        "id": "GKYTvrdhCCA7",
        "colab_type": "code",
        "colab": {
          "base_uri": "https://localhost:8080/",
          "height": 218
        },
        "outputId": "3e2de088-bf4d-4271-aef7-093dd5867f04"
      },
      "source": [
        "m.random_rows(3,4,5)"
      ],
      "execution_count": 7,
      "outputs": [
        {
          "output_type": "stream",
          "text": [
            "   Unnamed: 0      ID    Name  ...  GKPositioning GKReflexes Release Clause\n",
            "3           3  193080  De Gea  ...           88.0       94.0        €138.6M\n",
            "\n",
            "[1 rows x 89 columns]\n",
            "   Unnamed: 0      ID          Name  ...  GKPositioning GKReflexes Release Clause\n",
            "4           4  192985  K. De Bruyne  ...           10.0       13.0        €196.4M\n",
            "\n",
            "[1 rows x 89 columns]\n",
            "   Unnamed: 0      ID       Name  ...  GKPositioning GKReflexes Release Clause\n",
            "5           5  183277  E. Hazard  ...            8.0        8.0        €172.1M\n",
            "\n",
            "[1 rows x 89 columns]\n"
          ],
          "name": "stdout"
        }
      ]
    },
    {
      "cell_type": "code",
      "metadata": {
        "id": "gxncebSICMVC",
        "colab_type": "code",
        "colab": {}
      },
      "source": [
        ""
      ],
      "execution_count": null,
      "outputs": []
    }
  ]
}