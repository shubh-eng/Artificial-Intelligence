{
  "nbformat": 4,
  "nbformat_minor": 0,
  "metadata": {
    "colab": {
      "name": "Dynamic Programming",
      "provenance": [],
      "authorship_tag": "ABX9TyO0pBegydiozW6VQk9WYEBl",
      "include_colab_link": true
    },
    "kernelspec": {
      "name": "python3",
      "display_name": "Python 3"
    }
  },
  "cells": [
    {
      "cell_type": "markdown",
      "metadata": {
        "id": "view-in-github",
        "colab_type": "text"
      },
      "source": [
        "<a href=\"https://colab.research.google.com/github/shubh-eng/Artificial-Intelligence/blob/master/classwork/Dynamic_Programming.ipynb\" target=\"_parent\"><img src=\"https://colab.research.google.com/assets/colab-badge.svg\" alt=\"Open In Colab\"/></a>"
      ]
    },
    {
      "cell_type": "code",
      "metadata": {
        "id": "0pZnkmx98C7q",
        "colab_type": "code",
        "colab": {}
      },
      "source": [
        ""
      ],
      "execution_count": null,
      "outputs": []
    },
    {
      "cell_type": "markdown",
      "metadata": {
        "id": "aAUIihayDmfI",
        "colab_type": "text"
      },
      "source": [
        "#Recursion- Function Calling itself during execution\n",
        "\n",
        "1+2+3+4/n\n",
        "1+2=3 #Sum(1,2)\\n\n",
        "3+3=6 #Sum(Sum(1,2),3)\\n\n",
        "6+4=10 #Sum(Sum(Sum(1,2),3),4)\\n\n",
        "\n"
      ]
    },
    {
      "cell_type": "code",
      "metadata": {
        "id": "MC4Xk4FdGo6O",
        "colab_type": "code",
        "colab": {}
      },
      "source": [
        "def factorial_recur(n):\n",
        "  factor=1\n",
        "  if (n==0):\n",
        "    return factor\n",
        "  else:\n",
        "    return (n*factorial(n-1))\n",
        "\n",
        "def factorial_simpl(n):\n",
        "  factor=1\n",
        "  if (n==0):\n",
        "    return factorial\n",
        "  else:\n",
        "\n",
        "    for i in range(1,n+1):\n",
        "      factor=factor*i\n",
        "    \n",
        "    return factor"
      ],
      "execution_count": null,
      "outputs": []
    },
    {
      "cell_type": "code",
      "metadata": {
        "id": "c92aFcYlH1Ks",
        "colab_type": "code",
        "colab": {
          "base_uri": "https://localhost:8080/",
          "height": 34
        },
        "outputId": "fb24c3d8-6ddb-478d-be9a-de352ee68585"
      },
      "source": [
        "factorial_recur(5)"
      ],
      "execution_count": null,
      "outputs": [
        {
          "output_type": "execute_result",
          "data": {
            "text/plain": [
              "120"
            ]
          },
          "metadata": {
            "tags": []
          },
          "execution_count": 3
        }
      ]
    },
    {
      "cell_type": "code",
      "metadata": {
        "id": "Q8U5YDW4JfnP",
        "colab_type": "code",
        "colab": {
          "base_uri": "https://localhost:8080/",
          "height": 34
        },
        "outputId": "9b8ec317-05b7-42bc-cb56-fc73773f99c2"
      },
      "source": [
        "factorial_simpl(5)"
      ],
      "execution_count": null,
      "outputs": [
        {
          "output_type": "execute_result",
          "data": {
            "text/plain": [
              "120"
            ]
          },
          "metadata": {
            "tags": []
          },
          "execution_count": 9
        }
      ]
    },
    {
      "cell_type": "code",
      "metadata": {
        "id": "0MEEaCRWJ4IV",
        "colab_type": "code",
        "colab": {}
      },
      "source": [
        "# Fibonacci\n",
        "0012358\n",
        "# Property\n",
        "# Base Case-sum(0,1)\n",
        "# nth number is sum of previous two numbers\n",
        "\n"
      ],
      "execution_count": null,
      "outputs": []
    },
    {
      "cell_type": "code",
      "metadata": {
        "id": "IBhwvT7MW4Nq",
        "colab_type": "code",
        "colab": {}
      },
      "source": [
        "#Binary Search\n",
        "listx=[5,3,2,1,5,6,7,123,97,65,34,22,344,2245,122,45]"
      ],
      "execution_count": null,
      "outputs": []
    },
    {
      "cell_type": "markdown",
      "metadata": {
        "id": "D_SPUcELfDSk",
        "colab_type": "text"
      },
      "source": [
        "tractable - PTIME (Polynomial Time Solvable) <br> <br>\n",
        "Polynomial - Expression where each term is n^k where k can be any whole number <br> <br>\n",
        "Degree of the polynomial highest power of the variable within the expression <br> <br>\n",
        "Polynomial Time- Runtime of the code or solution should be a polynomial n: input space or dimension <br> <br>\n",
        "example: 0(n^4) - 3n^4 + 2n^2 +1 <br> <br>\n",
        "n = 1 -> 1 <br>\n",
        "n = 2 -> 2^4 <br>\n",
        "n = 3 -> 3^4 <br>\n",
        "n = 4 -> 4^4...... <br>\n",
        "\n"
      ]
    },
    {
      "cell_type": "code",
      "metadata": {
        "id": "jybq9puyXJ8z",
        "colab_type": "code",
        "colab": {}
      },
      "source": [
        "listx.sort()"
      ],
      "execution_count": null,
      "outputs": []
    },
    {
      "cell_type": "code",
      "metadata": {
        "id": "c_bobC8aXPGu",
        "colab_type": "code",
        "colab": {
          "base_uri": "https://localhost:8080/",
          "height": 34
        },
        "outputId": "9c887bf2-b249-47b3-c029-0ced72b793f6"
      },
      "source": [
        "listx\n"
      ],
      "execution_count": null,
      "outputs": [
        {
          "output_type": "execute_result",
          "data": {
            "text/plain": [
              "[1, 2, 3, 5, 5, 6, 7, 22, 34, 45, 65, 97, 122, 123, 344, 2245]"
            ]
          },
          "metadata": {
            "tags": []
          },
          "execution_count": 17
        }
      ]
    },
    {
      "cell_type": "code",
      "metadata": {
        "id": "EQ5msVdqXRww",
        "colab_type": "code",
        "colab": {}
      },
      "source": [
        ""
      ],
      "execution_count": null,
      "outputs": []
    }
  ]
}